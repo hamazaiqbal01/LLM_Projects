{
 "cells": [
  {
   "cell_type": "code",
   "execution_count": null,
   "id": "ca954d39",
   "metadata": {},
   "outputs": [
    {
     "ename": "",
     "evalue": "",
     "output_type": "error",
     "traceback": [
      "\u001b[1;31mRunning cells with 'LLM_me (Python 3.12.7)' requires the ipykernel package.\n",
      "\u001b[1;31mInstall 'ipykernel' into the Python environment. \n",
      "\u001b[1;31mCommand: 'c:/LLM_Projects/Project_1_Website_Summarizer/LLM_me/Scripts/python.exe -m pip install ipykernel -U --force-reinstall'"
     ]
    }
   ],
   "source": [
    "# Project: make website crawler that provides summary with ollama"
   ]
  },
  {
   "cell_type": "code",
   "execution_count": 3,
   "id": "b7c94a4e",
   "metadata": {},
   "outputs": [],
   "source": [
    "# Step 1: importing website"
   ]
  },
  {
   "cell_type": "code",
   "execution_count": null,
   "id": "877f077e",
   "metadata": {},
   "outputs": [],
   "source": [
    "import ollama \n",
    "import requests   # send http request and get content of the webpage \n",
    "from bs4 import BeautifulSoup  # parse and clean HTML so you can easily extract texts or elements. "
   ]
  },
  {
   "cell_type": "code",
   "execution_count": null,
   "id": "dd382cca",
   "metadata": {},
   "outputs": [],
   "source": [
    "# Step 2: Function to extract text from webpage"
   ]
  },
  {
   "cell_type": "code",
   "execution_count": null,
   "id": "0544b70f",
   "metadata": {},
   "outputs": [],
   "source": [
    "def get_website_text(url):\n",
    "    response = requests.get(url)\n",
    "    soup = BeautifulSoup(response.text, 'html.parser')\n",
    "    return soup.get_text()"
   ]
  },
  {
   "cell_type": "code",
   "execution_count": null,
   "id": "02ff59f4",
   "metadata": {},
   "outputs": [],
   "source": [
    "# Step 4: Please input your desired website url  "
   ]
  },
  {
   "cell_type": "code",
   "execution_count": null,
   "id": "7de14900",
   "metadata": {},
   "outputs": [],
   "source": [
    "website_url = \"https://github.com\""
   ]
  },
  {
   "cell_type": "code",
   "execution_count": null,
   "id": "bccdc1e8",
   "metadata": {},
   "outputs": [],
   "source": [
    "# Step 5: Get website URL"
   ]
  },
  {
   "cell_type": "code",
   "execution_count": null,
   "id": "78e6cb0d",
   "metadata": {},
   "outputs": [],
   "source": [
    "web_txt = get_website_text(website_url)"
   ]
  },
  {
   "cell_type": "code",
   "execution_count": null,
   "id": "26d9906a",
   "metadata": {},
   "outputs": [],
   "source": [
    "# Step 6: Send to Ollama for summary"
   ]
  },
  {
   "cell_type": "code",
   "execution_count": null,
   "id": "57b532c4",
   "metadata": {},
   "outputs": [],
   "source": [
    "messages = [\n",
    "    {\"role\":\"user\", \"content\":f\"please summarize following website:\\n{web_txt}\"}\n",
    "]"
   ]
  },
  {
   "cell_type": "code",
   "execution_count": null,
   "id": "c057e092",
   "metadata": {},
   "outputs": [],
   "source": [
    "# Step 7: Get response from the ollama "
   ]
  },
  {
   "cell_type": "code",
   "execution_count": null,
   "id": "17078122",
   "metadata": {},
   "outputs": [],
   "source": [
    "model= \"qwen2.5:0.5b\"\n",
    "response = ollama.chat(model= model, messages= messages) "
   ]
  },
  {
   "cell_type": "code",
   "execution_count": null,
   "id": "f236b32f",
   "metadata": {},
   "outputs": [],
   "source": [
    "# step 8: print the result "
   ]
  },
  {
   "cell_type": "code",
   "execution_count": null,
   "id": "cbc13935",
   "metadata": {},
   "outputs": [],
   "source": [
    "print(response['message']['content'])"
   ]
  }
 ],
 "metadata": {
  "kernelspec": {
   "display_name": "LLM_me",
   "language": "python",
   "name": "python3"
  },
  "language_info": {
   "codemirror_mode": {
    "name": "ipython",
    "version": 3
   },
   "file_extension": ".py",
   "mimetype": "text/x-python",
   "name": "python",
   "nbconvert_exporter": "python",
   "pygments_lexer": "ipython3",
   "version": "3.12.7"
  }
 },
 "nbformat": 4,
 "nbformat_minor": 5
}
