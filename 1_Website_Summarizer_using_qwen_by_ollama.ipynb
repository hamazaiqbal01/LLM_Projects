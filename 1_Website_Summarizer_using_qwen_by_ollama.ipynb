{
 "cells": [
  {
   "cell_type": "markdown",
   "id": "ca954d39",
   "metadata": {},
   "source": [
    "# Project: make website crawler that provides summary with ollama"
   ]
  },
  {
   "cell_type": "markdown",
   "id": "b7c94a4e",
   "metadata": {},
   "source": [
    "# Step 1: importing website"
   ]
  },
  {
   "cell_type": "code",
   "execution_count": 8,
   "id": "877f077e",
   "metadata": {},
   "outputs": [],
   "source": [
    "import ollama \n",
    "import requests   # send http request and get content of the webpage \n",
    "from bs4 import BeautifulSoup  # parse and clean HTML so you can easily extract texts or elements. "
   ]
  },
  {
   "cell_type": "markdown",
   "id": "dd382cca",
   "metadata": {},
   "source": [
    "# Step 2: Function to extract text from webpage"
   ]
  },
  {
   "cell_type": "code",
   "execution_count": 10,
   "id": "0544b70f",
   "metadata": {},
   "outputs": [],
   "source": [
    "def get_website_text(url):\n",
    "    response = requests.get(url)\n",
    "    soup = BeautifulSoup(response.text, 'html.parser')\n",
    "    return soup.get_text()"
   ]
  },
  {
   "cell_type": "markdown",
   "id": "02ff59f4",
   "metadata": {},
   "source": [
    "# Step 4: Please input your desired website url  "
   ]
  },
  {
   "cell_type": "code",
   "execution_count": 12,
   "id": "7de14900",
   "metadata": {},
   "outputs": [],
   "source": [
    "website_url = \"https://github.com\""
   ]
  },
  {
   "cell_type": "markdown",
   "id": "bccdc1e8",
   "metadata": {},
   "source": [
    "# Step 5: Get website URL"
   ]
  },
  {
   "cell_type": "code",
   "execution_count": 14,
   "id": "78e6cb0d",
   "metadata": {},
   "outputs": [],
   "source": [
    "web_txt = get_website_text(website_url)"
   ]
  },
  {
   "cell_type": "markdown",
   "id": "26d9906a",
   "metadata": {},
   "source": [
    "# Step 6: Send to Ollama for summary"
   ]
  },
  {
   "cell_type": "code",
   "execution_count": 16,
   "id": "57b532c4",
   "metadata": {},
   "outputs": [],
   "source": [
    "messages = [\n",
    "    {\"role\":\"user\", \"content\":f\"please summarize following website:\\n{web_txt}\"}\n",
    "]"
   ]
  },
  {
   "cell_type": "markdown",
   "id": "c057e092",
   "metadata": {},
   "source": [
    "# Step 7: Get response from the ollama "
   ]
  },
  {
   "cell_type": "code",
   "execution_count": 18,
   "id": "17078122",
   "metadata": {},
   "outputs": [],
   "source": [
    "model= \"qwen2.5:0.5b\"\n",
    "response = ollama.chat(model= model, messages= messages) "
   ]
  },
  {
   "cell_type": "markdown",
   "id": "f236b32f",
   "metadata": {},
   "source": [
    "# step 8: print the result "
   ]
  },
  {
   "cell_type": "code",
   "execution_count": 20,
   "id": "cbc13935",
   "metadata": {},
   "outputs": [
    {
     "name": "stdout",
     "output_type": "stream",
     "text": [
      "The given text appears to be an overview or introduction about GitHub. Here's a structured summary of its key points:\n",
      "\n",
      "1. **Overview**: GitHub is a widely used platform for code repositories and collaborative development.\n",
      "\n",
      "2. **Features**:\n",
      "   - **Enterprise Copilot**: Intuitive coding experience with automated suggestions.\n",
      "   - **Security**: Strong security features including automatic vulnerability analysis and power-ups detection.\n",
      "   - **Pricing**: Offers different pricing tiers based on the size of your organization.\n",
      "\n",
      "3. **Team Resources**:\n",
      "   - **GitHub Sites**: A collection of articles, tutorials, and best practices for developers.\n",
      "   - **GitHub Support**: Various resources to help users with issues and get support from experts.\n",
      "\n",
      "4. **Company Information**:\n",
      "   - GitHub is a company founded by Jeff Atwood in 2003 as a development environment for code and configuration files.\n",
      "\n",
      "5. **Community and Forums**:\n",
      "   - GitHub has a developer API, community forums, professional services, premium support, skills profile, and more.\n",
      "\n",
      "6. **Customer Stories**: Contains examples of successful projects built with GitHub, demonstrating its capabilities.\n",
      "\n",
      "7. **Blog**: Provides articles on various topics related to software development.\n",
      "\n",
      "8. **GitHub on LinkedIn**:\n",
      "   - This is a social media presence where developers share their experiences and engage with each other.\n",
      "\n",
      "9. **GitHub on Instagram, YouTube, TikTok, Twitch, X, TikTok, etc.**:\n",
      "   - These are platforms where users can showcase content related to GitHub, showcasing images or videos of what GitHub looks like.\n",
      "\n",
      "This summary highlights the main features, resources, and activities offered by GitHub across its various areas and platforms. If you need more detailed information on any specific topic or have additional questions about GitHub's offerings, feel free to ask!\n"
     ]
    }
   ],
   "source": [
    "print(response['message']['content'])"
   ]
  },
  {
   "cell_type": "markdown",
   "id": "dc99d396",
   "metadata": {},
   "source": [
    "# This project leverages the open-source Qwen model from Alibaba, integrated via Ollama, to extract and summarize content from websites."
   ]
  }
 ],
 "metadata": {
  "kernelspec": {
   "display_name": "LLM_me",
   "language": "python",
   "name": "python3"
  },
  "language_info": {
   "codemirror_mode": {
    "name": "ipython",
    "version": 3
   },
   "file_extension": ".py",
   "mimetype": "text/x-python",
   "name": "python",
   "nbconvert_exporter": "python",
   "pygments_lexer": "ipython3",
   "version": "3.12.7"
  }
 },
 "nbformat": 4,
 "nbformat_minor": 5
}
